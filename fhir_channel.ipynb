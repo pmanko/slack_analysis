{
 "cells": [
  {
   "cell_type": "markdown",
   "metadata": {},
   "source": [
    "# Analysis of the OpenMRS #fhir Channel\n",
    "\n",
    "### Some ideas\n",
    "- [ ] Scoping by Thread\n",
    "- [ ] Scoping by User\n",
    "- [ ] Scoping by Timestamp\n",
    "\n",
    "\n"
   ]
  },
  {
   "cell_type": "code",
   "execution_count": 1,
   "metadata": {},
   "outputs": [],
   "source": [
    "# Install a conda package in the current Jupyter kernel\n",
    "import sys\n",
    "\n",
    "try:\n",
    "     import slacker\n",
    "except ImportError:\n",
    "    !conda install --yes -c conda-forge slacker"
   ]
  },
  {
   "cell_type": "code",
   "execution_count": 2,
   "metadata": {},
   "outputs": [],
   "source": [
    "# Import required packages\n",
    "# From: https://gist.github.com/Chandler/fb7a070f52883849de35\n",
    "\n",
    "from slacker import Slacker\n",
    "import json\n",
    "import argparse\n",
    "import os"
   ]
  },
  {
   "cell_type": "code",
   "execution_count": 3,
   "metadata": {},
   "outputs": [],
   "source": [
    "# From: https://gist.github.com/Chandler/fb7a070f52883849de35\n",
    "\n",
    "# This script finds all channels, private channels and direct messages\n",
    "# that your user participates in, downloads the complete history for\n",
    "# those converations and writes each conversation out to seperate json files.\n",
    "#\n",
    "# This user centric history gathering is nice because the official slack data exporter\n",
    "# only exports public channels.\n",
    "#\n",
    "# PS, this only works if your slack team has a paid account which allows for unlimited history.\n",
    "#\n",
    "# PPS, this use of the API is blessed by Slack.\n",
    "# https://get.slack.help/hc/en-us/articles/204897248\n",
    "# \" If you want to export the contents of your own private groups and direct messages\n",
    "# please see our API documentation.\"\n",
    "#\n",
    "\n",
    "\n"
   ]
  },
  {
   "cell_type": "markdown",
   "metadata": {},
   "source": [
    "## Registering your \"App\" to get an Authentication Token\n",
    "\n",
    "This process - which uses OAuth and app registration in a very similar manner to SMART on FHIR - is the new process through whcih slack would like you to interact with their API. \n",
    "\n",
    "Read this disclaimer: https://api.slack.com/custom-integrations/legacy-tokens\n",
    "\n",
    "### Create your App\n",
    "To register a Slack App for your notebook, go here: https://api.slack.com/slack-apps)\n",
    "\n",
    "#### Select Scopes\n",
    "In the `Scopes` section, select the `Access user's public channels` scope, and any additional scopes you might need (list to follow soon).\n",
    "\n",
    "Create your app, and store the OAuth Access Token"
   ]
  },
  {
   "cell_type": "code",
   "execution_count": 20,
   "metadata": {},
   "outputs": [],
   "source": [
    "TOKEN = '<your-api-token-from-slack-apps>'"
   ]
  },
  {
   "cell_type": "markdown",
   "metadata": {},
   "source": [
    "## Testing out Authentication\n",
    "\n",
    "You should see `Successfully authenticated for team OpenMRS and user <your-username>` as the output of the following cell."
   ]
  },
  {
   "cell_type": "code",
   "execution_count": 21,
   "metadata": {},
   "outputs": [
    {
     "name": "stdout",
     "output_type": "stream",
     "text": [
      "Successfully authenticated for team OpenMRS and user pmanko \n"
     ]
    }
   ],
   "source": [
    "# Get basic info about the slack channel to ensure the authentication token works\n",
    "def doTestAuth(slack):\n",
    "  testAuth = slack.auth.test().body\n",
    "  teamName = testAuth['team']\n",
    "  currentUser = testAuth['user']\n",
    "  print(\"Successfully authenticated for team {0} and user {1} \".format(teamName, currentUser))\n",
    "  return testAuth\n",
    "\n",
    "slack = Slacker(TOKEN)\n",
    "testAuth = doTestAuth(slack)"
   ]
  },
  {
   "cell_type": "markdown",
   "metadata": {},
   "source": [
    "## Read in all posts on the #fhir channel\n",
    "\n",
    "First, we can take a look at all of the public channels we have access to.\n",
    "\n",
    "PS: Using the IPython `JSON` helper works in Jupyter Lab if you run the following in the Anaconda environment: `jupyter labextension install @jupyterlab/geojson-extension\n",
    "Node v10.13.0`.  \n",
    "\n",
    "The helper produces a nested JSON output. If, instead, you get `<IPython.core.display.JSON object>`, you can always just return the raw JSON without using the `JSON` helper.\n"
   ]
  },
  {
   "cell_type": "code",
   "execution_count": 22,
   "metadata": {},
   "outputs": [
    {
     "data": {
      "application/json": [
       {
        "created": 1425668117,
        "creator": "U03U4PGEY",
        "id": "C03U2P841",
        "is_archived": false,
        "is_channel": true,
        "is_general": false,
        "is_member": false,
        "is_mpim": false,
        "is_org_shared": false,
        "is_private": false,
        "is_shared": false,
        "members": [
         "U03U2FS2Z",
         "U03U5TZUU",
         "U0E9MPSKC",
         "U26N4ED0R",
         "U2933U3RN",
         "UHJURBNMR",
         "UHT1V84BC",
         "UHU9E3TEC",
         "UHXLB5R9R",
         "UJAQ7PQHM",
         "UKD72P75E"
        ],
        "name": "infra",
        "name_normalized": "infra",
        "num_members": 11,
        "previous_names": [],
        "purpose": {
         "creator": "U03U4PGEY",
         "last_set": 1425687174,
         "value": "OpenMRS.org Infrastructure"
        },
        "topic": {
         "creator": "",
         "last_set": 0,
         "value": ""
        },
        "unlinked": 0
       },
       {
        "created": 1425666334,
        "creator": "U03U4PGEY",
        "id": "C03U4PGGC",
        "is_archived": false,
        "is_channel": true,
        "is_general": true,
        "is_member": true,
        "is_mpim": false,
        "is_org_shared": false,
        "is_private": false,
        "is_shared": false,
        "members": [
         "U03U2FS2Z",
         "U03U5TZUU",
         "U04395ES6",
         "U055KNCB1",
         "U09G45F42",
         "U0E9MPSKC",
         "U26N4ED0R",
         "U2933U3RN",
         "UGHMA5GCS",
         "UGJCCPJP9",
         "UHJURBNMR",
         "UHS43J0HH",
         "UHT1V84BC",
         "UHTEN6LHW",
         "UHTKC7NE7",
         "UHTRDQZPS",
         "UHTSTK3J8",
         "UHU9E3TEC",
         "UHV91HPGR",
         "UHXLB5R9R",
         "UHYTE8PPT",
         "UJ0335E6Q",
         "UJ3274FPG",
         "UJ34PH77F",
         "UJ38BNQP3",
         "UJ44FNT0D",
         "UJ47NDU5S",
         "UJ4U1HMLL",
         "UJ6RQUGJK",
         "UJ714CH7Y",
         "UJ74MM230",
         "UJ87ATGH5",
         "UJ8TY7J05",
         "UJ99BA9EV",
         "UJA2YCNGK",
         "UJA4A4S93",
         "UJAB75UDU",
         "UJAQ3Q8TZ",
         "UJAQ7PQHM",
         "UJAV889QR",
         "UJBJTJRL4",
         "UJDSM4BU3",
         "UJDT9SD18",
         "UJGSCK18D",
         "UJH9E0WBZ",
         "UJHV51VJ8",
         "UJJFY6Q4E",
         "UJKMYB5GS",
         "UJKN7QDEW",
         "UJN5E8VA8",
         "UJXATBH8V",
         "UJXDH7X0R",
         "UK090K1HQ",
         "UK4CA1D6Y",
         "UK4K0ELSC",
         "UK8264W80",
         "UK8807RD5",
         "UK8C5UZ1S",
         "UK96M861G",
         "UK9EUKX50",
         "UK9G7G518",
         "UK9GPECLB",
         "UK9J4G9H9",
         "UK9J4MFBL",
         "UK9JNKUF5",
         "UKANMQXRQ",
         "UKAT8HYAX",
         "UKB4YNH36",
         "UKD72P75E",
         "UKDBHMFEK",
         "UKDFTV163",
         "UKE8RSYQZ",
         "UKEG94RLH",
         "UKEJG935F",
         "UKEJK3G1X",
         "UKEJLGG81",
         "UKEJMV36D",
         "UKFUM5XKK",
         "UKGHCSCG2",
         "UKGMQ35BM",
         "UKLF4TDT6",
         "UKLF71X2Q",
         "UKLG85V44",
         "UKLGHSH4L",
         "UKLKUP53P",
         "UKLSMQBJ9",
         "UKLT0F8P7",
         "UKLTD081K",
         "UKLV09WV6",
         "UKM132V16",
         "UKM15JN8G",
         "UKM181PC0",
         "UKM18A58D",
         "UKM2L92P9",
         "UKM9E1P17",
         "UKMB8TN9Z",
         "UKNPS051D",
         "UKNQ1A0BH",
         "UKP497ZF0",
         "UKPQ3U6JF",
         "UKPQN40NM",
         "UKQ60CYC9",
         "UKS6040D6",
         "UKSGGL077",
         "UKSU8TDHQ",
         "UKT963607",
         "UKV24A2QY",
         "UKVERR5RC",
         "UKWGQRW3G",
         "UKXS2Q2H5",
         "UKY1P9KCN",
         "UKZBUENAJ",
         "UKZQ2346B",
         "UL14E5ULE",
         "UL1C48ASK",
         "UL22ND6BZ",
         "UL70U5U3H",
         "ULE0Q6HDM"
        ],
        "name": "general",
        "name_normalized": "general",
        "num_members": 118,
        "previous_names": [],
        "purpose": {
         "creator": "U2933U3RN",
         "last_set": 1554994849,
         "value": "This channel is for general communication and announcements. All members are in this channel. Note many use/prefer our IRC (<https://om.rs/irc>) and Telegram  (<https://om.rs/tg>) forums."
        },
        "topic": {
         "creator": "",
         "last_set": 0,
         "value": ""
        },
        "unlinked": 0
       },
       {
        "created": 1425666334,
        "creator": "U03U4PGEY",
        "id": "C03U4PGGS",
        "is_archived": false,
        "is_channel": true,
        "is_general": false,
        "is_member": false,
        "is_mpim": false,
        "is_org_shared": false,
        "is_private": false,
        "is_shared": false,
        "members": [
         "U03U2FS2Z",
         "U03U5TZUU",
         "U055KNCB1",
         "U2933U3RN",
         "UGHMA5GCS",
         "UHJURBNMR",
         "UHU9E3TEC",
         "UHV91HPGR",
         "UJAQ7PQHM",
         "UK090K1HQ",
         "UKB4YNH36",
         "UKD72P75E",
         "UKM2L92P9"
        ],
        "name": "random",
        "name_normalized": "random",
        "num_members": 13,
        "previous_names": [],
        "purpose": {
         "creator": "",
         "last_set": 0,
         "value": "A place for non-work banter, links, articles of interest, humor or anything else which you'd like concentrated in some place other than work-related channels."
        },
        "topic": {
         "creator": "",
         "last_set": 0,
         "value": ""
        },
        "unlinked": 0
       },
       {
        "created": 1425684968,
        "creator": "U03U61N1B",
        "id": "C03U8H2AY",
        "is_archived": false,
        "is_channel": true,
        "is_general": false,
        "is_member": false,
        "is_mpim": false,
        "is_org_shared": false,
        "is_private": false,
        "is_shared": false,
        "members": [
         "U04395ES6",
         "UHJURBNMR",
         "UJ34PH77F",
         "UJAQ7PQHM",
         "UJH9E0WBZ",
         "UK090K1HQ",
         "UKAT8HYAX",
         "UKB4YNH36",
         "UKFUM5XKK",
         "UKSGGL077"
        ],
        "name": "gsoc",
        "name_normalized": "gsoc",
        "num_members": 10,
        "previous_names": [],
        "purpose": {
         "creator": "U03U4PGEY",
         "last_set": 1426784897,
         "value": "Google Summer of Code @ OpenMRS."
        },
        "topic": {
         "creator": "",
         "last_set": 0,
         "value": ""
        },
        "unlinked": 0
       }
      ],
      "text/plain": [
       "<IPython.core.display.JSON object>"
      ]
     },
     "execution_count": 22,
     "metadata": {
      "application/json": {
       "expanded": false,
       "root": "root"
      }
     },
     "output_type": "execute_result"
    }
   ],
   "source": [
    "from IPython.display import JSON\n",
    "\n",
    "channels = slack.channels.list().body['channels']\n",
    "JSON(channels[1:5])"
   ]
  },
  {
   "cell_type": "markdown",
   "metadata": {},
   "source": [
    "Note the ID of the `fhir` channel, which in my case is `CKLPH66BB`."
   ]
  },
  {
   "cell_type": "code",
   "execution_count": 23,
   "metadata": {},
   "outputs": [
    {
     "data": {
      "text/plain": [
       "'CKLPH66BB'"
      ]
     },
     "execution_count": 23,
     "metadata": {},
     "output_type": "execute_result"
    }
   ],
   "source": [
    "import itertools\n",
    "import json\n",
    "\n",
    "\n",
    "# From https://hackersandslackers.com/extract-data-from-complex-json-python/\n",
    "#   Probably overkill, but useful JSON helper function\n",
    "def extract_values(obj, key):\n",
    "    \"\"\"Pull all values of specified key from nested JSON.\"\"\"\n",
    "    arr = []\n",
    "\n",
    "    def extract(obj, arr, key):\n",
    "        \"\"\"Recursively search for values of key in JSON tree.\"\"\"\n",
    "        if isinstance(obj, dict):\n",
    "            for k, v in obj.items():\n",
    "                if isinstance(v, (dict, list)):\n",
    "                    extract(v, arr, key)\n",
    "                elif k == key:\n",
    "                    arr.append(v)\n",
    "        elif isinstance(obj, list):\n",
    "            for item in obj:\n",
    "                extract(item, arr, key)\n",
    "        return arr\n",
    "\n",
    "    results = extract(obj, arr, key)\n",
    "    return results\n",
    "\n",
    "fhirIndex = extract_values(channels, \"name\").index('fhir')\n",
    "fhirId = extract_values(channels, \"id\")[fhirIndex]\n",
    "\n",
    "fhirId\n"
   ]
  },
  {
   "cell_type": "markdown",
   "metadata": {},
   "source": [
    "Now we can list the history of our channel, which we first will print in a very messy way for the first 100 messages:"
   ]
  },
  {
   "cell_type": "code",
   "execution_count": 24,
   "metadata": {},
   "outputs": [],
   "source": [
    "# slack.conversations.history(\"#fhir\")\n",
    "hist = slack.conversations.history(fhirId).body['messages']"
   ]
  },
  {
   "cell_type": "code",
   "execution_count": 25,
   "metadata": {},
   "outputs": [
    {
     "data": {
      "application/json": [
       {
        "subtype": "channel_join",
        "text": "<@ULE0Q6HDM> has joined the channel",
        "ts": "1562879134.101800",
        "type": "message",
        "user": "ULE0Q6HDM"
       },
       {
        "subtype": "channel_join",
        "text": "<@UKSU8TDHQ> has joined the channel",
        "ts": "1562360462.101500",
        "type": "message",
        "user": "UKSU8TDHQ"
       },
       {
        "subtype": "channel_join",
        "text": "<@UL14E5ULE> has joined the channel",
        "ts": "1562016869.101300",
        "type": "message",
        "user": "UL14E5ULE"
       },
       {
        "inviter": "UHJURBNMR",
        "subtype": "channel_join",
        "text": "<@UKV24A2QY> has joined the channel",
        "ts": "1561857980.099400",
        "type": "message",
        "user": "UKV24A2QY"
       },
       {
        "inviter": "UHJURBNMR",
        "subtype": "channel_join",
        "text": "<@UKQ60CYC9> has joined the channel",
        "ts": "1561857980.099200",
        "type": "message",
        "user": "UKQ60CYC9"
       },
       {
        "client_msg_id": "51362F0A-D336-4AD6-B3DD-F3960CA7067D",
        "team": "T03U4PGDY",
        "text": "Because avoiding duplicate network requests is desirable for any UI, I’ve been brainstorming how to do this. I am hesitant to build a central data store within the browser. And also hesitant to create a one-off “one true patient object” representation. The smart of fhir client-js seems like it would be able to be the one true patient object in a way that is standard, documented, and well thought out ",
        "ts": "1561805798.097100",
        "type": "message",
        "user": "UHV91HPGR"
       },
       {
        "client_msg_id": "CE28843B-C162-42FF-B7B7-6AD13A5D9E26",
        "latest_reply": "1561971201.100600",
        "replies": [
         {
          "ts": "1561805559.092600",
          "user": "UHV91HPGR"
         },
         {
          "ts": "1561805623.093700",
          "user": "UHV91HPGR"
         },
         {
          "ts": "1561971201.100600",
          "user": "UK9GPECLB"
         }
        ],
        "reply_count": 3,
        "reply_users": [
         "UHV91HPGR",
         "UK9GPECLB"
        ],
        "reply_users_count": 2,
        "subscribed": false,
        "team": "T03U4PGDY",
        "text": "The current OpenMRS REST APIs are so configurable that everyone uses them very differently. This makes it very difficult to build a chunk of ui functionality (microfrontend) that can share network requests and data with another microfrontend",
        "thread_ts": "1561805491.091300",
        "ts": "1561805491.091300",
        "type": "message",
        "user": "UHV91HPGR"
       },
       {
        "client_msg_id": "CFE2A3E5-8326-4542-BB7C-9859C44098E4",
        "team": "T03U4PGDY",
        "text": "Like Burke pointed out, a big benefit of using FHIR is “developer interoperability.” Where developers, both within and outside of OpenMRS, can have a shared understanding of how to interact with the APIs",
        "ts": "1561805129.088000",
        "type": "message",
        "user": "UHV91HPGR"
       },
       {
        "client_msg_id": "56CE0450-1BD6-422F-9999-B4F64AF2768B",
        "latest_reply": "1561869546.100000",
        "replies": [
         {
          "ts": "1561869546.100000",
          "user": "UJKN7QDEW"
         }
        ],
        "reply_count": 1,
        "reply_users": [
         "UJKN7QDEW"
        ],
        "reply_users_count": 1,
        "subscribed": false,
        "team": "T03U4PGDY",
        "text": "For the work being done with the microfrontends squad and the new UI, our choice is to use non-FHIR OpenMRS APIs or to use FHIR OpenMRS APIs. My (pretty limited) understanding is that the decision is already made for us because fhir api compliance is substantially lacking. (Please correct me if I’m misinformed)",
        "thread_ts": "1561804834.084200",
        "ts": "1561804834.084200",
        "type": "message",
        "user": "UHV91HPGR"
       },
       {
        "client_msg_id": "FA4C36D0-5C44-4B77-A104-3AE2C7E7F40B",
        "edited": {
         "ts": "1561804886.000000",
         "user": "UHV91HPGR"
        },
        "last_read": "1562088020.000479",
        "latest_reply": "1562000747.100900",
        "replies": [
         {
          "ts": "1561807634.098900",
          "user": "UHV91HPGR"
         },
         {
          "ts": "1561869191.099500",
          "user": "UJKN7QDEW"
         },
         {
          "ts": "1561869404.099800",
          "user": "UJKN7QDEW"
         },
         {
          "ts": "1562000747.100900",
          "user": "UKWGQRW3G"
         }
        ],
        "reply_count": 4,
        "reply_users": [
         "UHV91HPGR",
         "UJKN7QDEW",
         "UKWGQRW3G"
        ],
        "reply_users_count": 3,
        "subscribed": true,
        "team": "T03U4PGDY",
        "text": "The conversations about internal vs external have been confusing to me — FHIR is about your API, not your data store. Redoing the OpenMRS database schema or underlying technologies is not part of being FHIR compliant. What matters is whether the OpenMRS APIs are FHIR or not.",
        "thread_ts": "1561804718.082200",
        "ts": "1561804718.082200",
        "type": "message",
        "user": "UHV91HPGR"
       }
      ],
      "text/plain": [
       "<IPython.core.display.JSON object>"
      ]
     },
     "execution_count": 25,
     "metadata": {
      "application/json": {
       "expanded": false,
       "root": "root"
      }
     },
     "output_type": "execute_result"
    }
   ],
   "source": [
    "JSON(hist[:10])"
   ]
  },
  {
   "cell_type": "markdown",
   "metadata": {},
   "source": [
    "Now we can use Pandas to start playing with the dataset. First, let's transform it into a data frame, and maybe filter out the `channel_join` sybtype:"
   ]
  },
  {
   "cell_type": "code",
   "execution_count": 26,
   "metadata": {},
   "outputs": [
    {
     "data": {
      "text/html": [
       "<div>\n",
       "<style scoped>\n",
       "    .dataframe tbody tr th:only-of-type {\n",
       "        vertical-align: middle;\n",
       "    }\n",
       "\n",
       "    .dataframe tbody tr th {\n",
       "        vertical-align: top;\n",
       "    }\n",
       "\n",
       "    .dataframe thead th {\n",
       "        text-align: right;\n",
       "    }\n",
       "</style>\n",
       "<table border=\"1\" class=\"dataframe\">\n",
       "  <thead>\n",
       "    <tr style=\"text-align: right;\">\n",
       "      <th></th>\n",
       "      <th>attachments</th>\n",
       "      <th>bot_id</th>\n",
       "      <th>client_msg_id</th>\n",
       "      <th>edited</th>\n",
       "      <th>icons</th>\n",
       "      <th>inviter</th>\n",
       "      <th>last_read</th>\n",
       "      <th>latest_reply</th>\n",
       "      <th>name</th>\n",
       "      <th>old_name</th>\n",
       "      <th>...</th>\n",
       "      <th>root</th>\n",
       "      <th>subscribed</th>\n",
       "      <th>subtype</th>\n",
       "      <th>team</th>\n",
       "      <th>text</th>\n",
       "      <th>thread_ts</th>\n",
       "      <th>ts</th>\n",
       "      <th>type</th>\n",
       "      <th>user</th>\n",
       "      <th>username</th>\n",
       "    </tr>\n",
       "  </thead>\n",
       "  <tbody>\n",
       "    <tr>\n",
       "      <th>5</th>\n",
       "      <td>NaN</td>\n",
       "      <td>NaN</td>\n",
       "      <td>51362F0A-D336-4AD6-B3DD-F3960CA7067D</td>\n",
       "      <td>NaN</td>\n",
       "      <td>NaN</td>\n",
       "      <td>NaN</td>\n",
       "      <td>NaN</td>\n",
       "      <td>NaN</td>\n",
       "      <td>NaN</td>\n",
       "      <td>NaN</td>\n",
       "      <td>...</td>\n",
       "      <td>NaN</td>\n",
       "      <td>NaN</td>\n",
       "      <td>NaN</td>\n",
       "      <td>T03U4PGDY</td>\n",
       "      <td>Because avoiding duplicate network requests is...</td>\n",
       "      <td>NaN</td>\n",
       "      <td>1561805798.097100</td>\n",
       "      <td>message</td>\n",
       "      <td>UHV91HPGR</td>\n",
       "      <td>NaN</td>\n",
       "    </tr>\n",
       "    <tr>\n",
       "      <th>6</th>\n",
       "      <td>NaN</td>\n",
       "      <td>NaN</td>\n",
       "      <td>CE28843B-C162-42FF-B7B7-6AD13A5D9E26</td>\n",
       "      <td>NaN</td>\n",
       "      <td>NaN</td>\n",
       "      <td>NaN</td>\n",
       "      <td>NaN</td>\n",
       "      <td>1561971201.100600</td>\n",
       "      <td>NaN</td>\n",
       "      <td>NaN</td>\n",
       "      <td>...</td>\n",
       "      <td>NaN</td>\n",
       "      <td>False</td>\n",
       "      <td>NaN</td>\n",
       "      <td>T03U4PGDY</td>\n",
       "      <td>The current OpenMRS REST APIs are so configura...</td>\n",
       "      <td>1561805491.091300</td>\n",
       "      <td>1561805491.091300</td>\n",
       "      <td>message</td>\n",
       "      <td>UHV91HPGR</td>\n",
       "      <td>NaN</td>\n",
       "    </tr>\n",
       "    <tr>\n",
       "      <th>7</th>\n",
       "      <td>NaN</td>\n",
       "      <td>NaN</td>\n",
       "      <td>CFE2A3E5-8326-4542-BB7C-9859C44098E4</td>\n",
       "      <td>NaN</td>\n",
       "      <td>NaN</td>\n",
       "      <td>NaN</td>\n",
       "      <td>NaN</td>\n",
       "      <td>NaN</td>\n",
       "      <td>NaN</td>\n",
       "      <td>NaN</td>\n",
       "      <td>...</td>\n",
       "      <td>NaN</td>\n",
       "      <td>NaN</td>\n",
       "      <td>NaN</td>\n",
       "      <td>T03U4PGDY</td>\n",
       "      <td>Like Burke pointed out, a big benefit of using...</td>\n",
       "      <td>NaN</td>\n",
       "      <td>1561805129.088000</td>\n",
       "      <td>message</td>\n",
       "      <td>UHV91HPGR</td>\n",
       "      <td>NaN</td>\n",
       "    </tr>\n",
       "    <tr>\n",
       "      <th>8</th>\n",
       "      <td>NaN</td>\n",
       "      <td>NaN</td>\n",
       "      <td>56CE0450-1BD6-422F-9999-B4F64AF2768B</td>\n",
       "      <td>NaN</td>\n",
       "      <td>NaN</td>\n",
       "      <td>NaN</td>\n",
       "      <td>NaN</td>\n",
       "      <td>1561869546.100000</td>\n",
       "      <td>NaN</td>\n",
       "      <td>NaN</td>\n",
       "      <td>...</td>\n",
       "      <td>NaN</td>\n",
       "      <td>False</td>\n",
       "      <td>NaN</td>\n",
       "      <td>T03U4PGDY</td>\n",
       "      <td>For the work being done with the microfrontend...</td>\n",
       "      <td>1561804834.084200</td>\n",
       "      <td>1561804834.084200</td>\n",
       "      <td>message</td>\n",
       "      <td>UHV91HPGR</td>\n",
       "      <td>NaN</td>\n",
       "    </tr>\n",
       "    <tr>\n",
       "      <th>9</th>\n",
       "      <td>NaN</td>\n",
       "      <td>NaN</td>\n",
       "      <td>FA4C36D0-5C44-4B77-A104-3AE2C7E7F40B</td>\n",
       "      <td>{'user': 'UHV91HPGR', 'ts': '1561804886.000000'}</td>\n",
       "      <td>NaN</td>\n",
       "      <td>NaN</td>\n",
       "      <td>1562088020.000479</td>\n",
       "      <td>1562000747.100900</td>\n",
       "      <td>NaN</td>\n",
       "      <td>NaN</td>\n",
       "      <td>...</td>\n",
       "      <td>NaN</td>\n",
       "      <td>True</td>\n",
       "      <td>NaN</td>\n",
       "      <td>T03U4PGDY</td>\n",
       "      <td>The conversations about internal vs external h...</td>\n",
       "      <td>1561804718.082200</td>\n",
       "      <td>1561804718.082200</td>\n",
       "      <td>message</td>\n",
       "      <td>UHV91HPGR</td>\n",
       "      <td>NaN</td>\n",
       "    </tr>\n",
       "  </tbody>\n",
       "</table>\n",
       "<p>5 rows × 28 columns</p>\n",
       "</div>"
      ],
      "text/plain": [
       "  attachments bot_id                         client_msg_id  \\\n",
       "5         NaN    NaN  51362F0A-D336-4AD6-B3DD-F3960CA7067D   \n",
       "6         NaN    NaN  CE28843B-C162-42FF-B7B7-6AD13A5D9E26   \n",
       "7         NaN    NaN  CFE2A3E5-8326-4542-BB7C-9859C44098E4   \n",
       "8         NaN    NaN  56CE0450-1BD6-422F-9999-B4F64AF2768B   \n",
       "9         NaN    NaN  FA4C36D0-5C44-4B77-A104-3AE2C7E7F40B   \n",
       "\n",
       "                                             edited icons inviter  \\\n",
       "5                                               NaN   NaN     NaN   \n",
       "6                                               NaN   NaN     NaN   \n",
       "7                                               NaN   NaN     NaN   \n",
       "8                                               NaN   NaN     NaN   \n",
       "9  {'user': 'UHV91HPGR', 'ts': '1561804886.000000'}   NaN     NaN   \n",
       "\n",
       "           last_read       latest_reply name old_name   ...    root  \\\n",
       "5                NaN                NaN  NaN      NaN   ...     NaN   \n",
       "6                NaN  1561971201.100600  NaN      NaN   ...     NaN   \n",
       "7                NaN                NaN  NaN      NaN   ...     NaN   \n",
       "8                NaN  1561869546.100000  NaN      NaN   ...     NaN   \n",
       "9  1562088020.000479  1562000747.100900  NaN      NaN   ...     NaN   \n",
       "\n",
       "  subscribed subtype       team  \\\n",
       "5        NaN     NaN  T03U4PGDY   \n",
       "6      False     NaN  T03U4PGDY   \n",
       "7        NaN     NaN  T03U4PGDY   \n",
       "8      False     NaN  T03U4PGDY   \n",
       "9       True     NaN  T03U4PGDY   \n",
       "\n",
       "                                                text          thread_ts  \\\n",
       "5  Because avoiding duplicate network requests is...                NaN   \n",
       "6  The current OpenMRS REST APIs are so configura...  1561805491.091300   \n",
       "7  Like Burke pointed out, a big benefit of using...                NaN   \n",
       "8  For the work being done with the microfrontend...  1561804834.084200   \n",
       "9  The conversations about internal vs external h...  1561804718.082200   \n",
       "\n",
       "                  ts     type       user username  \n",
       "5  1561805798.097100  message  UHV91HPGR      NaN  \n",
       "6  1561805491.091300  message  UHV91HPGR      NaN  \n",
       "7  1561805129.088000  message  UHV91HPGR      NaN  \n",
       "8  1561804834.084200  message  UHV91HPGR      NaN  \n",
       "9  1561804718.082200  message  UHV91HPGR      NaN  \n",
       "\n",
       "[5 rows x 28 columns]"
      ]
     },
     "execution_count": 26,
     "metadata": {},
     "output_type": "execute_result"
    }
   ],
   "source": [
    "import pandas as pd\n",
    "import ast\n",
    "\n",
    "#data = pd.read_json(print(hist))\n",
    "#df = pd.DataFrame(data)\n",
    "\n",
    "\n",
    "df = pd.DataFrame(hist)\n",
    "df = df[df.subtype != 'channel_join']\n",
    "\n",
    "df.head()"
   ]
  },
  {
   "cell_type": "markdown",
   "metadata": {},
   "source": [
    "Let's take a look at some other possibly-useful columns and their value sets:\n"
   ]
  },
  {
   "cell_type": "code",
   "execution_count": 27,
   "metadata": {},
   "outputs": [
    {
     "data": {
      "text/plain": [
       "Index(['attachments', 'bot_id', 'client_msg_id', 'edited', 'icons', 'inviter',\n",
       "       'last_read', 'latest_reply', 'name', 'old_name', 'pinned_info',\n",
       "       'pinned_to', 'purpose', 'reactions', 'replies', 'reply_count',\n",
       "       'reply_users', 'reply_users_count', 'root', 'subscribed', 'subtype',\n",
       "       'team', 'text', 'thread_ts', 'ts', 'type', 'user', 'username'],\n",
       "      dtype='object')"
      ]
     },
     "execution_count": 27,
     "metadata": {},
     "output_type": "execute_result"
    }
   ],
   "source": [
    "df.columns"
   ]
  },
  {
   "cell_type": "code",
   "execution_count": 28,
   "metadata": {},
   "outputs": [
    {
     "data": {
      "text/plain": [
       "array([nan, 'thread_broadcast', 'channel_purpose', 'channel_name',\n",
       "       'bot_message'], dtype=object)"
      ]
     },
     "execution_count": 28,
     "metadata": {},
     "output_type": "execute_result"
    }
   ],
   "source": [
    "df.subtype.unique()"
   ]
  },
  {
   "cell_type": "code",
   "execution_count": 29,
   "metadata": {},
   "outputs": [
    {
     "data": {
      "text/plain": [
       "array([nan, 'Polly'], dtype=object)"
      ]
     },
     "execution_count": 29,
     "metadata": {},
     "output_type": "execute_result"
    }
   ],
   "source": [
    "df.username.unique()"
   ]
  },
  {
   "cell_type": "code",
   "execution_count": 30,
   "metadata": {},
   "outputs": [
    {
     "data": {
      "text/plain": [
       "array(['UHV91HPGR', 'UJKMYB5GS', 'UHJURBNMR', 'UK9GPECLB', 'U04395ES6',\n",
       "       'UGHMA5GCS', 'UJKN7QDEW', 'UKWGQRW3G', 'U055KNCB1', 'UJ87ATGH5',\n",
       "       'UHTEN6LHW', 'U2933U3RN', nan], dtype=object)"
      ]
     },
     "execution_count": 30,
     "metadata": {},
     "output_type": "execute_result"
    }
   ],
   "source": [
    "df.user.unique()"
   ]
  },
  {
   "cell_type": "markdown",
   "metadata": {},
   "source": [
    "Since the users in our data frame are identified by their ID, we need to get some more user information:"
   ]
  },
  {
   "cell_type": "code",
   "execution_count": 40,
   "metadata": {},
   "outputs": [],
   "source": [
    "allUsers = slack.users.list().body['members']"
   ]
  },
  {
   "cell_type": "code",
   "execution_count": 43,
   "metadata": {},
   "outputs": [],
   "source": [
    "userDf = pd.DataFrame(allUsers)"
   ]
  },
  {
   "cell_type": "code",
   "execution_count": 44,
   "metadata": {},
   "outputs": [
    {
     "data": {
      "text/html": [
       "<div>\n",
       "<style scoped>\n",
       "    .dataframe tbody tr th:only-of-type {\n",
       "        vertical-align: middle;\n",
       "    }\n",
       "\n",
       "    .dataframe tbody tr th {\n",
       "        vertical-align: top;\n",
       "    }\n",
       "\n",
       "    .dataframe thead th {\n",
       "        text-align: right;\n",
       "    }\n",
       "</style>\n",
       "<table border=\"1\" class=\"dataframe\">\n",
       "  <thead>\n",
       "    <tr style=\"text-align: right;\">\n",
       "      <th></th>\n",
       "      <th>color</th>\n",
       "      <th>deleted</th>\n",
       "      <th>has_2fa</th>\n",
       "      <th>id</th>\n",
       "      <th>is_admin</th>\n",
       "      <th>is_app_user</th>\n",
       "      <th>is_bot</th>\n",
       "      <th>is_invited_user</th>\n",
       "      <th>is_owner</th>\n",
       "      <th>is_primary_owner</th>\n",
       "      <th>is_restricted</th>\n",
       "      <th>is_ultra_restricted</th>\n",
       "      <th>name</th>\n",
       "      <th>profile</th>\n",
       "      <th>real_name</th>\n",
       "      <th>team_id</th>\n",
       "      <th>tz</th>\n",
       "      <th>tz_label</th>\n",
       "      <th>tz_offset</th>\n",
       "      <th>updated</th>\n",
       "    </tr>\n",
       "  </thead>\n",
       "  <tbody>\n",
       "    <tr>\n",
       "      <th>0</th>\n",
       "      <td>757575</td>\n",
       "      <td>False</td>\n",
       "      <td>NaN</td>\n",
       "      <td>USLACKBOT</td>\n",
       "      <td>False</td>\n",
       "      <td>False</td>\n",
       "      <td>False</td>\n",
       "      <td>NaN</td>\n",
       "      <td>False</td>\n",
       "      <td>False</td>\n",
       "      <td>False</td>\n",
       "      <td>False</td>\n",
       "      <td>slackbot</td>\n",
       "      <td>{'title': '', 'phone': '', 'skype': '', 'real_...</td>\n",
       "      <td>Slackbot</td>\n",
       "      <td>T03U4PGDY</td>\n",
       "      <td>None</td>\n",
       "      <td>Pacific Daylight Time</td>\n",
       "      <td>-25200.0</td>\n",
       "      <td>0</td>\n",
       "    </tr>\n",
       "    <tr>\n",
       "      <th>1</th>\n",
       "      <td>4bbe2e</td>\n",
       "      <td>False</td>\n",
       "      <td>NaN</td>\n",
       "      <td>U03U2FS2Z</td>\n",
       "      <td>False</td>\n",
       "      <td>False</td>\n",
       "      <td>False</td>\n",
       "      <td>NaN</td>\n",
       "      <td>False</td>\n",
       "      <td>False</td>\n",
       "      <td>False</td>\n",
       "      <td>False</td>\n",
       "      <td>ryan</td>\n",
       "      <td>{'title': '', 'phone': '', 'skype': '', 'real_...</td>\n",
       "      <td>Ryan Yates</td>\n",
       "      <td>T03U4PGDY</td>\n",
       "      <td>America/Indiana/Indianapolis</td>\n",
       "      <td>Eastern Daylight Time</td>\n",
       "      <td>-14400.0</td>\n",
       "      <td>1510345295</td>\n",
       "    </tr>\n",
       "    <tr>\n",
       "      <th>2</th>\n",
       "      <td>NaN</td>\n",
       "      <td>True</td>\n",
       "      <td>NaN</td>\n",
       "      <td>U03U4PGEY</td>\n",
       "      <td>NaN</td>\n",
       "      <td>False</td>\n",
       "      <td>False</td>\n",
       "      <td>NaN</td>\n",
       "      <td>NaN</td>\n",
       "      <td>NaN</td>\n",
       "      <td>NaN</td>\n",
       "      <td>NaN</td>\n",
       "      <td>michael</td>\n",
       "      <td>{'title': 'Worldwide Community Manager', 'phon...</td>\n",
       "      <td>NaN</td>\n",
       "      <td>T03U4PGDY</td>\n",
       "      <td>NaN</td>\n",
       "      <td>NaN</td>\n",
       "      <td>NaN</td>\n",
       "      <td>1545236742</td>\n",
       "    </tr>\n",
       "    <tr>\n",
       "      <th>3</th>\n",
       "      <td>e7392d</td>\n",
       "      <td>False</td>\n",
       "      <td>NaN</td>\n",
       "      <td>U03U5TZUU</td>\n",
       "      <td>False</td>\n",
       "      <td>False</td>\n",
       "      <td>False</td>\n",
       "      <td>NaN</td>\n",
       "      <td>False</td>\n",
       "      <td>False</td>\n",
       "      <td>False</td>\n",
       "      <td>False</td>\n",
       "      <td>elliott</td>\n",
       "      <td>{'title': '', 'phone': '', 'skype': '', 'real_...</td>\n",
       "      <td>Elliott Williams</td>\n",
       "      <td>T03U4PGDY</td>\n",
       "      <td>America/Indiana/Indianapolis</td>\n",
       "      <td>Eastern Daylight Time</td>\n",
       "      <td>-14400.0</td>\n",
       "      <td>1510345303</td>\n",
       "    </tr>\n",
       "    <tr>\n",
       "      <th>4</th>\n",
       "      <td>NaN</td>\n",
       "      <td>True</td>\n",
       "      <td>NaN</td>\n",
       "      <td>U03U61N1B</td>\n",
       "      <td>NaN</td>\n",
       "      <td>False</td>\n",
       "      <td>False</td>\n",
       "      <td>NaN</td>\n",
       "      <td>NaN</td>\n",
       "      <td>NaN</td>\n",
       "      <td>NaN</td>\n",
       "      <td>NaN</td>\n",
       "      <td>r0bby</td>\n",
       "      <td>{'title': '', 'phone': '', 'skype': '', 'real_...</td>\n",
       "      <td>NaN</td>\n",
       "      <td>T03U4PGDY</td>\n",
       "      <td>NaN</td>\n",
       "      <td>NaN</td>\n",
       "      <td>NaN</td>\n",
       "      <td>1533174676</td>\n",
       "    </tr>\n",
       "  </tbody>\n",
       "</table>\n",
       "</div>"
      ],
      "text/plain": [
       "    color  deleted has_2fa         id is_admin  is_app_user  is_bot  \\\n",
       "0  757575    False     NaN  USLACKBOT    False        False   False   \n",
       "1  4bbe2e    False     NaN  U03U2FS2Z    False        False   False   \n",
       "2     NaN     True     NaN  U03U4PGEY      NaN        False   False   \n",
       "3  e7392d    False     NaN  U03U5TZUU    False        False   False   \n",
       "4     NaN     True     NaN  U03U61N1B      NaN        False   False   \n",
       "\n",
       "  is_invited_user is_owner is_primary_owner is_restricted is_ultra_restricted  \\\n",
       "0             NaN    False            False         False               False   \n",
       "1             NaN    False            False         False               False   \n",
       "2             NaN      NaN              NaN           NaN                 NaN   \n",
       "3             NaN    False            False         False               False   \n",
       "4             NaN      NaN              NaN           NaN                 NaN   \n",
       "\n",
       "       name                                            profile  \\\n",
       "0  slackbot  {'title': '', 'phone': '', 'skype': '', 'real_...   \n",
       "1      ryan  {'title': '', 'phone': '', 'skype': '', 'real_...   \n",
       "2   michael  {'title': 'Worldwide Community Manager', 'phon...   \n",
       "3   elliott  {'title': '', 'phone': '', 'skype': '', 'real_...   \n",
       "4     r0bby  {'title': '', 'phone': '', 'skype': '', 'real_...   \n",
       "\n",
       "          real_name    team_id                            tz  \\\n",
       "0          Slackbot  T03U4PGDY                          None   \n",
       "1        Ryan Yates  T03U4PGDY  America/Indiana/Indianapolis   \n",
       "2               NaN  T03U4PGDY                           NaN   \n",
       "3  Elliott Williams  T03U4PGDY  America/Indiana/Indianapolis   \n",
       "4               NaN  T03U4PGDY                           NaN   \n",
       "\n",
       "                tz_label  tz_offset     updated  \n",
       "0  Pacific Daylight Time   -25200.0           0  \n",
       "1  Eastern Daylight Time   -14400.0  1510345295  \n",
       "2                    NaN        NaN  1545236742  \n",
       "3  Eastern Daylight Time   -14400.0  1510345303  \n",
       "4                    NaN        NaN  1533174676  "
      ]
     },
     "execution_count": 44,
     "metadata": {},
     "output_type": "execute_result"
    }
   ],
   "source": [
    "userDf.head()"
   ]
  },
  {
   "cell_type": "code",
   "execution_count": 46,
   "metadata": {},
   "outputs": [
    {
     "data": {
      "text/plain": [
       "Index(['color', 'deleted', 'has_2fa', 'id', 'is_admin', 'is_app_user',\n",
       "       'is_bot', 'is_invited_user', 'is_owner', 'is_primary_owner',\n",
       "       'is_restricted', 'is_ultra_restricted', 'name', 'profile', 'real_name',\n",
       "       'team_id', 'tz', 'tz_label', 'tz_offset', 'updated'],\n",
       "      dtype='object')"
      ]
     },
     "execution_count": 46,
     "metadata": {},
     "output_type": "execute_result"
    }
   ],
   "source": [
    "userDf.columns"
   ]
  }
 ],
 "metadata": {
  "kernelspec": {
   "display_name": "Python 3",
   "language": "python",
   "name": "python3"
  },
  "language_info": {
   "codemirror_mode": {
    "name": "ipython",
    "version": 3
   },
   "file_extension": ".py",
   "mimetype": "text/x-python",
   "name": "python",
   "nbconvert_exporter": "python",
   "pygments_lexer": "ipython3",
   "version": "3.7.1"
  }
 },
 "nbformat": 4,
 "nbformat_minor": 2
}
